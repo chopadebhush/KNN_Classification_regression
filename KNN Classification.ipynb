{
 "cells": [
  {
   "cell_type": "code",
   "execution_count": 60,
   "id": "045c735b-83ea-4b99-b202-44597413397c",
   "metadata": {},
   "outputs": [],
   "source": [
    "import pandas as pd\n",
    "import numpy as np\n",
    "import matplotlib.pyplot as plt\n",
    "import seaborn as sns\n",
    "import warnings \n",
    "warnings.filterwarnings(\"ignore\")"
   ]
  },
  {
   "cell_type": "code",
   "execution_count": 164,
   "id": "ab0db7a3-8612-456a-bde6-ab3cc04e90b9",
   "metadata": {},
   "outputs": [],
   "source": [
    "from sklearn.datasets import make_classification\n",
    "X,y =make_classification(n_samples=20,n_features=10,n_clusters_per_class=1,n_redundant=0,n_repeated=0,random_state=1)"
   ]
  },
  {
   "cell_type": "code",
   "execution_count": 165,
   "id": "760eb014-7c55-4756-a977-2cd143b95e4a",
   "metadata": {},
   "outputs": [
    {
     "data": {
      "text/plain": [
       "array([[-2.02220122,  0.23009474,  1.34849905, -0.30620401,  0.31563495,\n",
       "         0.76201118, -0.22232814,  0.92733666,  0.82797464, -0.20075807],\n",
       "       [ 0.61838026, -0.31011677,  0.12766611,  0.23249456,  0.07782113,\n",
       "        -2.43483776,  1.0388246 , -1.16565058,  0.68255141,  2.18697965],\n",
       "       [ 0.69803203,  0.40349164,  2.43081444, -0.44712856, -0.62000084,\n",
       "         0.59357852, -1.09491185,  0.72643387,  1.2245077 ,  0.16938243],\n",
       "       [ 0.18515642,  0.42349435,  1.22032876, -0.37528495,  1.19891788,\n",
       "         0.07734007, -0.34385368,  1.02776782, -0.63873041,  0.04359686],\n",
       "       [ 1.96710175,  1.62765075, -0.45827898, -1.85798186,  1.27375593,\n",
       "         0.3380117 , -1.19926803,  1.27109482,  1.23616403,  0.86334532],\n",
       "       [ 0.88514116,  0.51292982,  3.40806982, -0.75439794,  0.28558733,\n",
       "        -0.29809284,  0.48851815,  0.68622624,  1.25286816, -0.07557171],\n",
       "       [ 0.41005165, -0.67066229,  3.42278643,  0.19829972,  0.18656139,\n",
       "         0.37756379,  0.12182127,  0.60113836,  0.11900865,  1.12948391],\n",
       "       [-0.60392063,  0.79280687,  1.74216416, -1.23005814, -0.1809203 ,\n",
       "        -0.62353073,  0.52057634, -0.88616539,  0.5505375 , -1.14434139],\n",
       "       [ 0.24073709,  1.16033857,  0.84242108,  0.28066508,  0.5627611 ,\n",
       "         0.36949272,  1.90465871, -0.9926918 , -0.0731127 ,  1.1110567 ],\n",
       "       [ 1.51981682, -1.44411381,  2.36354043,  2.18557541,  1.13162939,\n",
       "        -0.50446586,  0.16003707,  0.64586878, -1.39649634,  0.87616892],\n",
       "       [-1.62743834,  0.81095167,  2.2035513 ,  0.60231928,  0.6590498 ,\n",
       "         1.04444209, -0.40087819, -0.82211871,  0.4202822 ,  0.82400562],\n",
       "       [-0.35224985, -0.20889423,  1.76041829, -1.1425182 ,  0.30017032,\n",
       "         0.58662319,  0.83898341,  1.01362474, -0.34934272,  0.93110208],\n",
       "       [-0.10015523,  0.01740941,  1.38382925, -0.13644474,  0.44136444,\n",
       "        -1.12201873, -0.51709446, -0.91616735, -0.11905419, -0.99702683],\n",
       "       [ 0.90148689,  0.04366899,  0.02334159,  2.52832571, -0.64691669,\n",
       "        -0.22631424,  1.33145711, -1.1667764 , -0.24863478, -0.28730786],\n",
       "       [ 1.95487808, -1.65072127,  0.14788636, -1.33195167, -0.56230543,\n",
       "        -0.89055558, -1.1191154 , -1.15937004, -1.76068856,  1.9560789 ],\n",
       "       [-1.31228341,  1.12141771,  0.49182478, -0.03869551,  0.35054598,\n",
       "         0.40890054, -0.02461696,  1.03459631, -1.61577235, -0.77516162],\n",
       "       [-0.29664115,  0.98633519,  0.42063027,  0.49521132,  0.24879916,\n",
       "         0.2135339 ,  2.19069973, -1.08927846, -0.17470316, -1.89636092],\n",
       "       [ 0.0465673 ,  0.86888616,  0.68714712, -0.18656977,  0.80186103,\n",
       "         0.75041164,  0.52946532, -1.09153429, -0.10174587,  0.13770121],\n",
       "       [-0.9537006 , -1.37311732,  1.72311415, -0.26621851,  0.74055645,\n",
       "         0.31515939,  0.84616065,  0.96657191,  0.03261455, -0.85951594],\n",
       "       [-0.3198016 ,  0.50318481,  0.76884573, -1.27255876,  0.68006984,\n",
       "         1.29322588, -0.11044703, -1.02218089,  0.31354772, -0.61736206]])"
      ]
     },
     "execution_count": 165,
     "metadata": {},
     "output_type": "execute_result"
    }
   ],
   "source": [
    "X "
   ]
  },
  {
   "cell_type": "code",
   "execution_count": 166,
   "id": "d94b4108-bf6a-4484-aba1-aed913fb811a",
   "metadata": {},
   "outputs": [
    {
     "data": {
      "text/plain": [
       "array([0, 1, 0, 0, 0, 0, 0, 1, 1, 0, 1, 0, 1, 1, 1, 0, 1, 1, 0, 1])"
      ]
     },
     "execution_count": 166,
     "metadata": {},
     "output_type": "execute_result"
    }
   ],
   "source": [
    "y"
   ]
  },
  {
   "cell_type": "code",
   "execution_count": 167,
   "id": "f146112a-dea9-47aa-823e-42f7d17a1ab3",
   "metadata": {},
   "outputs": [],
   "source": [
    "from sklearn.model_selection import train_test_split\n",
    "X_train ,X_test ,y_train ,y_test =train_test_split(X ,y,test_size=0.3,random_state=1)"
   ]
  },
  {
   "cell_type": "code",
   "execution_count": 168,
   "id": "20ab8510-4f7d-4a40-8cb0-41956b7d5bb0",
   "metadata": {},
   "outputs": [
    {
     "data": {
      "text/plain": [
       "((14, 10), (6, 10))"
      ]
     },
     "execution_count": 168,
     "metadata": {},
     "output_type": "execute_result"
    }
   ],
   "source": [
    "X_train.shape ,X_test.shape"
   ]
  },
  {
   "cell_type": "code",
   "execution_count": 169,
   "id": "a13674c2-7826-4d37-ae13-e97060a5872c",
   "metadata": {},
   "outputs": [
    {
     "data": {
      "text/html": [
       "<style>#sk-container-id-17 {color: black;background-color: white;}#sk-container-id-17 pre{padding: 0;}#sk-container-id-17 div.sk-toggleable {background-color: white;}#sk-container-id-17 label.sk-toggleable__label {cursor: pointer;display: block;width: 100%;margin-bottom: 0;padding: 0.3em;box-sizing: border-box;text-align: center;}#sk-container-id-17 label.sk-toggleable__label-arrow:before {content: \"▸\";float: left;margin-right: 0.25em;color: #696969;}#sk-container-id-17 label.sk-toggleable__label-arrow:hover:before {color: black;}#sk-container-id-17 div.sk-estimator:hover label.sk-toggleable__label-arrow:before {color: black;}#sk-container-id-17 div.sk-toggleable__content {max-height: 0;max-width: 0;overflow: hidden;text-align: left;background-color: #f0f8ff;}#sk-container-id-17 div.sk-toggleable__content pre {margin: 0.2em;color: black;border-radius: 0.25em;background-color: #f0f8ff;}#sk-container-id-17 input.sk-toggleable__control:checked~div.sk-toggleable__content {max-height: 200px;max-width: 100%;overflow: auto;}#sk-container-id-17 input.sk-toggleable__control:checked~label.sk-toggleable__label-arrow:before {content: \"▾\";}#sk-container-id-17 div.sk-estimator input.sk-toggleable__control:checked~label.sk-toggleable__label {background-color: #d4ebff;}#sk-container-id-17 div.sk-label input.sk-toggleable__control:checked~label.sk-toggleable__label {background-color: #d4ebff;}#sk-container-id-17 input.sk-hidden--visually {border: 0;clip: rect(1px 1px 1px 1px);clip: rect(1px, 1px, 1px, 1px);height: 1px;margin: -1px;overflow: hidden;padding: 0;position: absolute;width: 1px;}#sk-container-id-17 div.sk-estimator {font-family: monospace;background-color: #f0f8ff;border: 1px dotted black;border-radius: 0.25em;box-sizing: border-box;margin-bottom: 0.5em;}#sk-container-id-17 div.sk-estimator:hover {background-color: #d4ebff;}#sk-container-id-17 div.sk-parallel-item::after {content: \"\";width: 100%;border-bottom: 1px solid gray;flex-grow: 1;}#sk-container-id-17 div.sk-label:hover label.sk-toggleable__label {background-color: #d4ebff;}#sk-container-id-17 div.sk-serial::before {content: \"\";position: absolute;border-left: 1px solid gray;box-sizing: border-box;top: 0;bottom: 0;left: 50%;z-index: 0;}#sk-container-id-17 div.sk-serial {display: flex;flex-direction: column;align-items: center;background-color: white;padding-right: 0.2em;padding-left: 0.2em;position: relative;}#sk-container-id-17 div.sk-item {position: relative;z-index: 1;}#sk-container-id-17 div.sk-parallel {display: flex;align-items: stretch;justify-content: center;background-color: white;position: relative;}#sk-container-id-17 div.sk-item::before, #sk-container-id-17 div.sk-parallel-item::before {content: \"\";position: absolute;border-left: 1px solid gray;box-sizing: border-box;top: 0;bottom: 0;left: 50%;z-index: -1;}#sk-container-id-17 div.sk-parallel-item {display: flex;flex-direction: column;z-index: 1;position: relative;background-color: white;}#sk-container-id-17 div.sk-parallel-item:first-child::after {align-self: flex-end;width: 50%;}#sk-container-id-17 div.sk-parallel-item:last-child::after {align-self: flex-start;width: 50%;}#sk-container-id-17 div.sk-parallel-item:only-child::after {width: 0;}#sk-container-id-17 div.sk-dashed-wrapped {border: 1px dashed gray;margin: 0 0.4em 0.5em 0.4em;box-sizing: border-box;padding-bottom: 0.4em;background-color: white;}#sk-container-id-17 div.sk-label label {font-family: monospace;font-weight: bold;display: inline-block;line-height: 1.2em;}#sk-container-id-17 div.sk-label-container {text-align: center;}#sk-container-id-17 div.sk-container {/* jupyter's `normalize.less` sets `[hidden] { display: none; }` but bootstrap.min.css set `[hidden] { display: none !important; }` so we also need the `!important` here to be able to override the default hidden behavior on the sphinx rendered scikit-learn.org. See: https://github.com/scikit-learn/scikit-learn/issues/21755 */display: inline-block !important;position: relative;}#sk-container-id-17 div.sk-text-repr-fallback {display: none;}</style><div id=\"sk-container-id-17\" class=\"sk-top-container\"><div class=\"sk-text-repr-fallback\"><pre>KNeighborsClassifier()</pre><b>In a Jupyter environment, please rerun this cell to show the HTML representation or trust the notebook. <br />On GitHub, the HTML representation is unable to render, please try loading this page with nbviewer.org.</b></div><div class=\"sk-container\" hidden><div class=\"sk-item\"><div class=\"sk-estimator sk-toggleable\"><input class=\"sk-toggleable__control sk-hidden--visually\" id=\"sk-estimator-id-27\" type=\"checkbox\" checked><label for=\"sk-estimator-id-27\" class=\"sk-toggleable__label sk-toggleable__label-arrow\">KNeighborsClassifier</label><div class=\"sk-toggleable__content\"><pre>KNeighborsClassifier()</pre></div></div></div></div></div>"
      ],
      "text/plain": [
       "KNeighborsClassifier()"
      ]
     },
     "execution_count": 169,
     "metadata": {},
     "output_type": "execute_result"
    }
   ],
   "source": [
    "from sklearn.neighbors import KNeighborsClassifier\n",
    "clf =KNeighborsClassifier()\n",
    "clf.fit(X_train ,y_train)"
   ]
  },
  {
   "cell_type": "code",
   "execution_count": 170,
   "id": "01b9e789-7274-4659-aed4-55a12a36be9b",
   "metadata": {},
   "outputs": [],
   "source": [
    "y_pred =clf.predict(X_test)"
   ]
  },
  {
   "cell_type": "code",
   "execution_count": 171,
   "id": "3490b976-91d8-4bfe-b16a-a1daec4cdc3b",
   "metadata": {},
   "outputs": [
    {
     "data": {
      "text/plain": [
       "array([0, 1, 0, 1, 0, 1])"
      ]
     },
     "execution_count": 171,
     "metadata": {},
     "output_type": "execute_result"
    }
   ],
   "source": [
    "y_pred"
   ]
  },
  {
   "cell_type": "code",
   "execution_count": 172,
   "id": "d8c4ebf2-1a7f-407e-8d5d-d8463d8d15c4",
   "metadata": {},
   "outputs": [
    {
     "name": "stdout",
     "output_type": "stream",
     "text": [
      "[[3 0]\n",
      " [0 3]]\n"
     ]
    }
   ],
   "source": [
    "from sklearn.metrics import confusion_matrix,accuracy_score,classification_report\n",
    "print(confusion_matrix(y_test ,y_pred))"
   ]
  },
  {
   "cell_type": "code",
   "execution_count": 173,
   "id": "b23d2216-b218-4001-a673-802d47b81bdf",
   "metadata": {},
   "outputs": [
    {
     "name": "stdout",
     "output_type": "stream",
     "text": [
      "1.0\n"
     ]
    }
   ],
   "source": [
    "print(accuracy_score(y_test ,y_pred))"
   ]
  },
  {
   "cell_type": "code",
   "execution_count": 174,
   "id": "5799e9f7-c4f5-4188-b73e-dc1937aa6652",
   "metadata": {},
   "outputs": [
    {
     "name": "stdout",
     "output_type": "stream",
     "text": [
      "              precision    recall  f1-score   support\n",
      "\n",
      "           0       1.00      1.00      1.00         3\n",
      "           1       1.00      1.00      1.00         3\n",
      "\n",
      "    accuracy                           1.00         6\n",
      "   macro avg       1.00      1.00      1.00         6\n",
      "weighted avg       1.00      1.00      1.00         6\n",
      "\n"
     ]
    }
   ],
   "source": [
    "print(classification_report(y_test ,y_pred))"
   ]
  },
  {
   "cell_type": "code",
   "execution_count": 175,
   "id": "66a8d117-5384-469b-af32-82753a190d3f",
   "metadata": {},
   "outputs": [],
   "source": [
    "from sklearn.model_selection import GridSearchCV\n",
    "param ={\"n_neighbors\":[1,2,3,4,5],\n",
    "       \"algorithm\":[\"ball_tree\",\"kd_tree\"]}\n",
    "\n",
    "grid_clf =GridSearchCV(estimator=clf ,param_grid=param,cv=5 ,verbose=3)"
   ]
  },
  {
   "cell_type": "code",
   "execution_count": 176,
   "id": "57747f25-2817-4e82-919c-d55001fe64e9",
   "metadata": {},
   "outputs": [
    {
     "name": "stdout",
     "output_type": "stream",
     "text": [
      "Fitting 5 folds for each of 10 candidates, totalling 50 fits\n",
      "[CV 1/5] END algorithm=ball_tree, n_neighbors=1;, score=0.667 total time=   0.0s\n",
      "[CV 2/5] END algorithm=ball_tree, n_neighbors=1;, score=0.667 total time=   0.0s\n",
      "[CV 3/5] END algorithm=ball_tree, n_neighbors=1;, score=1.000 total time=   0.0s\n",
      "[CV 4/5] END algorithm=ball_tree, n_neighbors=1;, score=1.000 total time=   0.0s\n",
      "[CV 5/5] END algorithm=ball_tree, n_neighbors=1;, score=1.000 total time=   0.0s\n",
      "[CV 1/5] END algorithm=ball_tree, n_neighbors=2;, score=1.000 total time=   0.0s\n",
      "[CV 2/5] END algorithm=ball_tree, n_neighbors=2;, score=0.667 total time=   0.0s\n",
      "[CV 3/5] END algorithm=ball_tree, n_neighbors=2;, score=1.000 total time=   0.0s\n",
      "[CV 4/5] END algorithm=ball_tree, n_neighbors=2;, score=1.000 total time=   0.0s\n",
      "[CV 5/5] END algorithm=ball_tree, n_neighbors=2;, score=1.000 total time=   0.0s\n",
      "[CV 1/5] END algorithm=ball_tree, n_neighbors=3;, score=1.000 total time=   0.0s\n",
      "[CV 2/5] END algorithm=ball_tree, n_neighbors=3;, score=0.667 total time=   0.0s\n",
      "[CV 3/5] END algorithm=ball_tree, n_neighbors=3;, score=1.000 total time=   0.0s\n",
      "[CV 4/5] END algorithm=ball_tree, n_neighbors=3;, score=1.000 total time=   0.0s\n",
      "[CV 5/5] END algorithm=ball_tree, n_neighbors=3;, score=1.000 total time=   0.0s\n",
      "[CV 1/5] END algorithm=ball_tree, n_neighbors=4;, score=1.000 total time=   0.0s\n",
      "[CV 2/5] END algorithm=ball_tree, n_neighbors=4;, score=1.000 total time=   0.0s\n",
      "[CV 3/5] END algorithm=ball_tree, n_neighbors=4;, score=1.000 total time=   0.0s\n",
      "[CV 4/5] END algorithm=ball_tree, n_neighbors=4;, score=1.000 total time=   0.0s\n",
      "[CV 5/5] END algorithm=ball_tree, n_neighbors=4;, score=1.000 total time=   0.0s\n",
      "[CV 1/5] END algorithm=ball_tree, n_neighbors=5;, score=0.667 total time=   0.0s\n",
      "[CV 2/5] END algorithm=ball_tree, n_neighbors=5;, score=0.667 total time=   0.0s\n",
      "[CV 3/5] END algorithm=ball_tree, n_neighbors=5;, score=1.000 total time=   0.0s\n",
      "[CV 4/5] END algorithm=ball_tree, n_neighbors=5;, score=1.000 total time=   0.0s\n",
      "[CV 5/5] END algorithm=ball_tree, n_neighbors=5;, score=1.000 total time=   0.0s\n",
      "[CV 1/5] END ..algorithm=kd_tree, n_neighbors=1;, score=0.667 total time=   0.0s\n",
      "[CV 2/5] END ..algorithm=kd_tree, n_neighbors=1;, score=0.667 total time=   0.0s\n",
      "[CV 3/5] END ..algorithm=kd_tree, n_neighbors=1;, score=1.000 total time=   0.0s\n",
      "[CV 4/5] END ..algorithm=kd_tree, n_neighbors=1;, score=1.000 total time=   0.0s\n",
      "[CV 5/5] END ..algorithm=kd_tree, n_neighbors=1;, score=1.000 total time=   0.0s\n",
      "[CV 1/5] END ..algorithm=kd_tree, n_neighbors=2;, score=1.000 total time=   0.0s\n",
      "[CV 2/5] END ..algorithm=kd_tree, n_neighbors=2;, score=0.667 total time=   0.0s\n",
      "[CV 3/5] END ..algorithm=kd_tree, n_neighbors=2;, score=1.000 total time=   0.0s\n",
      "[CV 4/5] END ..algorithm=kd_tree, n_neighbors=2;, score=1.000 total time=   0.0s\n",
      "[CV 5/5] END ..algorithm=kd_tree, n_neighbors=2;, score=1.000 total time=   0.0s\n",
      "[CV 1/5] END ..algorithm=kd_tree, n_neighbors=3;, score=1.000 total time=   0.0s\n",
      "[CV 2/5] END ..algorithm=kd_tree, n_neighbors=3;, score=0.667 total time=   0.0s\n",
      "[CV 3/5] END ..algorithm=kd_tree, n_neighbors=3;, score=1.000 total time=   0.0s\n",
      "[CV 4/5] END ..algorithm=kd_tree, n_neighbors=3;, score=1.000 total time=   0.0s\n",
      "[CV 5/5] END ..algorithm=kd_tree, n_neighbors=3;, score=1.000 total time=   0.0s\n",
      "[CV 1/5] END ..algorithm=kd_tree, n_neighbors=4;, score=1.000 total time=   0.0s\n",
      "[CV 2/5] END ..algorithm=kd_tree, n_neighbors=4;, score=1.000 total time=   0.0s\n",
      "[CV 3/5] END ..algorithm=kd_tree, n_neighbors=4;, score=1.000 total time=   0.0s\n",
      "[CV 4/5] END ..algorithm=kd_tree, n_neighbors=4;, score=1.000 total time=   0.0s\n",
      "[CV 5/5] END ..algorithm=kd_tree, n_neighbors=4;, score=1.000 total time=   0.0s\n",
      "[CV 1/5] END ..algorithm=kd_tree, n_neighbors=5;, score=0.667 total time=   0.0s\n",
      "[CV 2/5] END ..algorithm=kd_tree, n_neighbors=5;, score=0.667 total time=   0.0s\n",
      "[CV 3/5] END ..algorithm=kd_tree, n_neighbors=5;, score=1.000 total time=   0.0s\n",
      "[CV 4/5] END ..algorithm=kd_tree, n_neighbors=5;, score=1.000 total time=   0.0s\n",
      "[CV 5/5] END ..algorithm=kd_tree, n_neighbors=5;, score=1.000 total time=   0.0s\n"
     ]
    },
    {
     "data": {
      "text/html": [
       "<style>#sk-container-id-18 {color: black;background-color: white;}#sk-container-id-18 pre{padding: 0;}#sk-container-id-18 div.sk-toggleable {background-color: white;}#sk-container-id-18 label.sk-toggleable__label {cursor: pointer;display: block;width: 100%;margin-bottom: 0;padding: 0.3em;box-sizing: border-box;text-align: center;}#sk-container-id-18 label.sk-toggleable__label-arrow:before {content: \"▸\";float: left;margin-right: 0.25em;color: #696969;}#sk-container-id-18 label.sk-toggleable__label-arrow:hover:before {color: black;}#sk-container-id-18 div.sk-estimator:hover label.sk-toggleable__label-arrow:before {color: black;}#sk-container-id-18 div.sk-toggleable__content {max-height: 0;max-width: 0;overflow: hidden;text-align: left;background-color: #f0f8ff;}#sk-container-id-18 div.sk-toggleable__content pre {margin: 0.2em;color: black;border-radius: 0.25em;background-color: #f0f8ff;}#sk-container-id-18 input.sk-toggleable__control:checked~div.sk-toggleable__content {max-height: 200px;max-width: 100%;overflow: auto;}#sk-container-id-18 input.sk-toggleable__control:checked~label.sk-toggleable__label-arrow:before {content: \"▾\";}#sk-container-id-18 div.sk-estimator input.sk-toggleable__control:checked~label.sk-toggleable__label {background-color: #d4ebff;}#sk-container-id-18 div.sk-label input.sk-toggleable__control:checked~label.sk-toggleable__label {background-color: #d4ebff;}#sk-container-id-18 input.sk-hidden--visually {border: 0;clip: rect(1px 1px 1px 1px);clip: rect(1px, 1px, 1px, 1px);height: 1px;margin: -1px;overflow: hidden;padding: 0;position: absolute;width: 1px;}#sk-container-id-18 div.sk-estimator {font-family: monospace;background-color: #f0f8ff;border: 1px dotted black;border-radius: 0.25em;box-sizing: border-box;margin-bottom: 0.5em;}#sk-container-id-18 div.sk-estimator:hover {background-color: #d4ebff;}#sk-container-id-18 div.sk-parallel-item::after {content: \"\";width: 100%;border-bottom: 1px solid gray;flex-grow: 1;}#sk-container-id-18 div.sk-label:hover label.sk-toggleable__label {background-color: #d4ebff;}#sk-container-id-18 div.sk-serial::before {content: \"\";position: absolute;border-left: 1px solid gray;box-sizing: border-box;top: 0;bottom: 0;left: 50%;z-index: 0;}#sk-container-id-18 div.sk-serial {display: flex;flex-direction: column;align-items: center;background-color: white;padding-right: 0.2em;padding-left: 0.2em;position: relative;}#sk-container-id-18 div.sk-item {position: relative;z-index: 1;}#sk-container-id-18 div.sk-parallel {display: flex;align-items: stretch;justify-content: center;background-color: white;position: relative;}#sk-container-id-18 div.sk-item::before, #sk-container-id-18 div.sk-parallel-item::before {content: \"\";position: absolute;border-left: 1px solid gray;box-sizing: border-box;top: 0;bottom: 0;left: 50%;z-index: -1;}#sk-container-id-18 div.sk-parallel-item {display: flex;flex-direction: column;z-index: 1;position: relative;background-color: white;}#sk-container-id-18 div.sk-parallel-item:first-child::after {align-self: flex-end;width: 50%;}#sk-container-id-18 div.sk-parallel-item:last-child::after {align-self: flex-start;width: 50%;}#sk-container-id-18 div.sk-parallel-item:only-child::after {width: 0;}#sk-container-id-18 div.sk-dashed-wrapped {border: 1px dashed gray;margin: 0 0.4em 0.5em 0.4em;box-sizing: border-box;padding-bottom: 0.4em;background-color: white;}#sk-container-id-18 div.sk-label label {font-family: monospace;font-weight: bold;display: inline-block;line-height: 1.2em;}#sk-container-id-18 div.sk-label-container {text-align: center;}#sk-container-id-18 div.sk-container {/* jupyter's `normalize.less` sets `[hidden] { display: none; }` but bootstrap.min.css set `[hidden] { display: none !important; }` so we also need the `!important` here to be able to override the default hidden behavior on the sphinx rendered scikit-learn.org. See: https://github.com/scikit-learn/scikit-learn/issues/21755 */display: inline-block !important;position: relative;}#sk-container-id-18 div.sk-text-repr-fallback {display: none;}</style><div id=\"sk-container-id-18\" class=\"sk-top-container\"><div class=\"sk-text-repr-fallback\"><pre>GridSearchCV(cv=5, estimator=KNeighborsClassifier(),\n",
       "             param_grid={&#x27;algorithm&#x27;: [&#x27;ball_tree&#x27;, &#x27;kd_tree&#x27;],\n",
       "                         &#x27;n_neighbors&#x27;: [1, 2, 3, 4, 5]},\n",
       "             verbose=3)</pre><b>In a Jupyter environment, please rerun this cell to show the HTML representation or trust the notebook. <br />On GitHub, the HTML representation is unable to render, please try loading this page with nbviewer.org.</b></div><div class=\"sk-container\" hidden><div class=\"sk-item sk-dashed-wrapped\"><div class=\"sk-label-container\"><div class=\"sk-label sk-toggleable\"><input class=\"sk-toggleable__control sk-hidden--visually\" id=\"sk-estimator-id-28\" type=\"checkbox\" ><label for=\"sk-estimator-id-28\" class=\"sk-toggleable__label sk-toggleable__label-arrow\">GridSearchCV</label><div class=\"sk-toggleable__content\"><pre>GridSearchCV(cv=5, estimator=KNeighborsClassifier(),\n",
       "             param_grid={&#x27;algorithm&#x27;: [&#x27;ball_tree&#x27;, &#x27;kd_tree&#x27;],\n",
       "                         &#x27;n_neighbors&#x27;: [1, 2, 3, 4, 5]},\n",
       "             verbose=3)</pre></div></div></div><div class=\"sk-parallel\"><div class=\"sk-parallel-item\"><div class=\"sk-item\"><div class=\"sk-label-container\"><div class=\"sk-label sk-toggleable\"><input class=\"sk-toggleable__control sk-hidden--visually\" id=\"sk-estimator-id-29\" type=\"checkbox\" ><label for=\"sk-estimator-id-29\" class=\"sk-toggleable__label sk-toggleable__label-arrow\">estimator: KNeighborsClassifier</label><div class=\"sk-toggleable__content\"><pre>KNeighborsClassifier()</pre></div></div></div><div class=\"sk-serial\"><div class=\"sk-item\"><div class=\"sk-estimator sk-toggleable\"><input class=\"sk-toggleable__control sk-hidden--visually\" id=\"sk-estimator-id-30\" type=\"checkbox\" ><label for=\"sk-estimator-id-30\" class=\"sk-toggleable__label sk-toggleable__label-arrow\">KNeighborsClassifier</label><div class=\"sk-toggleable__content\"><pre>KNeighborsClassifier()</pre></div></div></div></div></div></div></div></div></div></div>"
      ],
      "text/plain": [
       "GridSearchCV(cv=5, estimator=KNeighborsClassifier(),\n",
       "             param_grid={'algorithm': ['ball_tree', 'kd_tree'],\n",
       "                         'n_neighbors': [1, 2, 3, 4, 5]},\n",
       "             verbose=3)"
      ]
     },
     "execution_count": 176,
     "metadata": {},
     "output_type": "execute_result"
    }
   ],
   "source": [
    "grid_clf.fit(X_train ,y_train)"
   ]
  },
  {
   "cell_type": "code",
   "execution_count": 177,
   "id": "972b8ffa-1eed-4179-bce5-9e5392ff1661",
   "metadata": {},
   "outputs": [
    {
     "data": {
      "text/plain": [
       "1.0"
      ]
     },
     "execution_count": 177,
     "metadata": {},
     "output_type": "execute_result"
    }
   ],
   "source": [
    "grid_clf.best_score_"
   ]
  },
  {
   "cell_type": "code",
   "execution_count": 178,
   "id": "4f8655b5-9588-4784-9dbe-46d11722720a",
   "metadata": {},
   "outputs": [
    {
     "data": {
      "text/plain": [
       "{'algorithm': 'ball_tree', 'n_neighbors': 4}"
      ]
     },
     "execution_count": 178,
     "metadata": {},
     "output_type": "execute_result"
    }
   ],
   "source": [
    "grid_clf.best_params_"
   ]
  },
  {
   "cell_type": "code",
   "execution_count": 179,
   "id": "6b55a42b-8ca8-4638-9938-0700c81aee1c",
   "metadata": {},
   "outputs": [],
   "source": [
    "clf_best =grid_clf.best_estimator_\n",
    "y_grd_pred=clf_best.predict(X_test)"
   ]
  },
  {
   "cell_type": "code",
   "execution_count": 180,
   "id": "370c262c-fee8-43a3-b717-8dd33b5e8657",
   "metadata": {},
   "outputs": [
    {
     "data": {
      "text/plain": [
       "1.0"
      ]
     },
     "execution_count": 180,
     "metadata": {},
     "output_type": "execute_result"
    }
   ],
   "source": [
    "accuracy_score(y_test,y_grd_pred)"
   ]
  },
  {
   "cell_type": "code",
   "execution_count": null,
   "id": "fc1a6440-79e3-4dee-8f66-ac7b4e85d8e5",
   "metadata": {},
   "outputs": [],
   "source": []
  },
  {
   "cell_type": "code",
   "execution_count": null,
   "id": "8cc70ef8-3c7a-48d9-801a-6fd4d79b501b",
   "metadata": {},
   "outputs": [],
   "source": []
  },
  {
   "cell_type": "code",
   "execution_count": null,
   "id": "f3911aeb-6d81-4043-af49-8fa3c0ed0058",
   "metadata": {},
   "outputs": [],
   "source": []
  },
  {
   "cell_type": "code",
   "execution_count": null,
   "id": "f37029c8-c31a-4a85-b06f-a5b0c653323f",
   "metadata": {},
   "outputs": [],
   "source": []
  }
 ],
 "metadata": {
  "kernelspec": {
   "display_name": "Python 3 (ipykernel)",
   "language": "python",
   "name": "python3"
  },
  "language_info": {
   "codemirror_mode": {
    "name": "ipython",
    "version": 3
   },
   "file_extension": ".py",
   "mimetype": "text/x-python",
   "name": "python",
   "nbconvert_exporter": "python",
   "pygments_lexer": "ipython3",
   "version": "3.9.13"
  }
 },
 "nbformat": 4,
 "nbformat_minor": 5
}
